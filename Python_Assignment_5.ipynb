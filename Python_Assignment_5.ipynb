{
  "nbformat": 4,
  "nbformat_minor": 0,
  "metadata": {
    "colab": {
      "provenance": []
    },
    "kernelspec": {
      "name": "python3",
      "display_name": "Python 3"
    },
    "language_info": {
      "name": "python"
    }
  },
  "cells": [
    {
      "cell_type": "code",
      "execution_count": 1,
      "metadata": {
        "id": "WzBGIp-b5Iq1"
      },
      "outputs": [],
      "source": [
        "#1. What does an empty dictionary's code look like?\n",
        "# In Python, an empty dictionary is represented by curly braces {}."
      ]
    },
    {
      "cell_type": "code",
      "source": [
        "#2. What is the value of a dictionary value with the key 'foo' and the value 42?\n",
        "my_dict = {'foo': 42}\n",
        "my_dict"
      ],
      "metadata": {
        "colab": {
          "base_uri": "https://localhost:8080/"
        },
        "id": "LSAoEpS66wUa",
        "outputId": "029d77e5-230e-4f84-ac07-db82d075056d"
      },
      "execution_count": 3,
      "outputs": [
        {
          "output_type": "execute_result",
          "data": {
            "text/plain": [
              "{'foo': 42}"
            ]
          },
          "metadata": {},
          "execution_count": 3
        }
      ]
    },
    {
      "cell_type": "code",
      "source": [
        "#3. What is the most significant distinction between a dictionary and a list?\n",
        "#The items in a list are ordered items, while the items stored in a dictionary are unordered\n"
      ],
      "metadata": {
        "id": "UdwCSlNi7J7A"
      },
      "execution_count": 4,
      "outputs": []
    },
    {
      "cell_type": "code",
      "source": [
        "#4.What happens if you try to access spam['foo'] if spam is {'bar': 100}?\n",
        "spam = {'bar': 100}\n",
        "\n",
        "# Trying to access a key that doesn't exist\n",
        "value = spam['foo']  # This line will raise a KeyError\n"
      ],
      "metadata": {
        "id": "lWZxVVxw7jDn"
      },
      "execution_count": null,
      "outputs": []
    },
    {
      "cell_type": "code",
      "source": [
        "#5. If a dictionary is stored in spam, what is the difference between the expressions 'cat' in spam and 'cat' in spam.keys()?\n",
        "#There is no difference. The in operator checks whether a value exists as a key in the dictionary."
      ],
      "metadata": {
        "id": "2wAD73ih8NpZ"
      },
      "execution_count": 6,
      "outputs": []
    },
    {
      "cell_type": "code",
      "source": [
        "#6.If a dictionary is stored in spam, what is the difference between the expressions 'cat' in spam and 'cat' in spam.values()?\n",
        "#'cat' in spam checks whether there is a 'cat' key in the dictionary, while 'cat' in spam.values() checks whether there is a value 'cat' for one of the keys in spam."
      ],
      "metadata": {
        "id": "F3FCvyFO8yDv"
      },
      "execution_count": 7,
      "outputs": []
    },
    {
      "cell_type": "code",
      "source": [
        "#7.What is a shortcut for the following code?\n",
        "if 'color' not in spam:\n",
        "  spam['color'] = 'black'\n",
        "spam.setdefault('color', 'black')\n",
        "\n",
        "\n"
      ],
      "metadata": {
        "colab": {
          "base_uri": "https://localhost:8080/",
          "height": 35
        },
        "id": "7v0Wbgz99WGe",
        "outputId": "431c4607-4c81-4f65-fad0-b09a2ae6f416"
      },
      "execution_count": 9,
      "outputs": [
        {
          "output_type": "execute_result",
          "data": {
            "text/plain": [
              "'black'"
            ],
            "application/vnd.google.colaboratory.intrinsic+json": {
              "type": "string"
            }
          },
          "metadata": {},
          "execution_count": 9
        }
      ]
    },
    {
      "cell_type": "code",
      "source": [
        "#8. How do you \"pretty print\" dictionary values using which module and function?\n",
        "#pprint.pprint()"
      ],
      "metadata": {
        "id": "972PnU0H95kK"
      },
      "execution_count": 11,
      "outputs": []
    },
    {
      "cell_type": "code",
      "source": [],
      "metadata": {
        "id": "N47aYUOB--LB"
      },
      "execution_count": null,
      "outputs": []
    }
  ]
}